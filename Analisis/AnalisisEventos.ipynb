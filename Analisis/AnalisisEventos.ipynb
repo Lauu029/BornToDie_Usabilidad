{
 "cells": [
  {
   "cell_type": "code",
   "execution_count": 4,
   "id": "539b5c05",
   "metadata": {},
   "outputs": [],
   "source": [
    "import os\n",
    "import pandas as pd"
   ]
  },
  {
   "cell_type": "code",
   "execution_count": 11,
   "id": "48c30cfd",
   "metadata": {},
   "outputs": [
    {
     "name": "stdout",
     "output_type": "stream",
     "text": [
      "                               Event_ID                            Session_ID  \\\n",
      "0  823dedea-123c-4f72-b614-18b67359e715  d2f23c8b-72bc-43a9-8f01-cc0466f77c27   \n",
      "1  2e7c2c79-e23b-4b9f-a909-3a3fbe44cba0  d2f23c8b-72bc-43a9-8f01-cc0466f77c27   \n",
      "\n",
      "    Timestamp  \n",
      "0  1713604686  \n",
      "1  1713604692  \n"
     ]
    }
   ],
   "source": [
    "directorio = \"./Eventos/\"\n",
    "dataframes = []\n",
    "\n",
    "for archivo in os.listdir(directorio):\n",
    "    if archivo.endswith('.json'):\n",
    "        ruta_archivo = os.path.join(directorio, archivo)\n",
    "        # Lee el archivo y lo agrega a la lista de DataFrames\n",
    "        # df = pd.read_csv(ruta_archivo)\n",
    "        df = pd.read_json(ruta_archivo)\n",
    "        dataframes.append(df)\n",
    "        \n",
    "dataset_completo = pd.concat(dataframes, ignore_index=True)\n",
    "\n",
    "dataset_normalizado = pd.json_normalize(dataset_completo['Events'])\n",
    "\n",
    "dataset_final = pd.concat([dataset_completo.drop(columns=['Events']), dataset_normalizado], axis=1)\n",
    "\n",
    "print(dataset_final)"
   ]
  },
  {
   "cell_type": "code",
   "execution_count": null,
   "id": "434d7e98",
   "metadata": {},
   "outputs": [],
   "source": []
  }
 ],
 "metadata": {
  "kernelspec": {
   "display_name": "Python 3 (ipykernel)",
   "language": "python",
   "name": "python3"
  },
  "language_info": {
   "codemirror_mode": {
    "name": "ipython",
    "version": 3
   },
   "file_extension": ".py",
   "mimetype": "text/x-python",
   "name": "python",
   "nbconvert_exporter": "python",
   "pygments_lexer": "ipython3",
   "version": "3.11.4"
  }
 },
 "nbformat": 4,
 "nbformat_minor": 5
}
